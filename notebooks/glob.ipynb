{
  "cells": [
    {
      "cell_type": "markdown",
      "metadata": {
        "id": "R-0YwLsm7nmH"
      },
      "source": [
        "###Coffee Leaf Disease Classification - Optimizer Comparison\n",
        "\n",
        "Author: Tigist Wondimneh & Nahom Senay\n",
        "\n",
        "ID: GSR/5506/17 and GSR/4848/17"
      ]
    },
    {
      "cell_type": "markdown",
      "metadata": {
        "id": "TjMuaso2C_um"
      },
      "source": [
        "### Importing libraries"
      ]
    },
    {
      "cell_type": "code",
      "execution_count": 48,
      "metadata": {
        "id": "qQIUB4NtM2T1"
      },
      "outputs": [],
      "source": [
        "import torch\n",
        "import torch.nn as nn\n",
        "import torch.optim as optim\n",
        "import torchvision\n",
        "import torchvision.datasets as datasets\n",
        "import torchvision.transforms as transforms\n",
        "from torch.utils.data import DataLoader\n",
        "import matplotlib.pyplot as plt\n",
        "import numpy as np\n",
        "import torch.nn.functional as F\n",
        "from sklearn.metrics import f1_score, accuracy_score"
      ]
    },
    {
      "cell_type": "code",
      "execution_count": 49,
      "metadata": {
        "id": "rBfZl6HNNGHj"
      },
      "outputs": [],
      "source": [
        "device = torch.device(\"cuda\" if torch.cuda.is_available() else \"cpu\")"
      ]
    },
    {
      "cell_type": "markdown",
      "metadata": {},
      "source": [
        "### Load Dataset From Torch Vision"
      ]
    },
    {
      "cell_type": "code",
      "execution_count": 50,
      "metadata": {
        "id": "HWxJ0uuFgs3o"
      },
      "outputs": [],
      "source": [
        "# Define transformations to apply to the images\n",
        "transform = transforms.Compose([\n",
        "    transforms.Resize((224, 224)),\n",
        "    transforms.ToTensor(),\n",
        "    transforms.Normalize(mean=[0.485, 0.456, 0.406], std=[0.229, 0.224, 0.225])\n",
        "])"
      ]
    },
    {
      "cell_type": "code",
      "execution_count": 51,
      "metadata": {
        "id": "RSYSXa4ti5cS"
      },
      "outputs": [],
      "source": [
        "# Pascal VOC 2012 has 20 classes\n",
        "VOC_CLASSES = [\n",
        "    'aeroplane', 'bicycle', 'boat','bus', 'car', 'motorbike', 'train'\n",
        "]\n",
        "EPOCHES = 100"
      ]
    },
    {
      "cell_type": "code",
      "execution_count": 52,
      "metadata": {
        "id": "CSDU74_ri-iW"
      },
      "outputs": [],
      "source": [
        "class VOCDataset(torchvision.datasets.VOCDetection):\n",
        "    def __getitem__(self, index):\n",
        "        img, target = super().__getitem__(index)\n",
        "        labels = [0] * len(VOC_CLASSES)\n",
        "        objects = target['annotation']['object']\n",
        "        if isinstance(objects, dict):\n",
        "            objects = [objects]\n",
        "        for obj in objects:\n",
        "            cls = obj['name']\n",
        "            if cls in VOC_CLASSES:\n",
        "                labels[VOC_CLASSES.index(cls)] = 1\n",
        "        return img, torch.FloatTensor(labels)"
      ]
    },
    {
      "cell_type": "code",
      "execution_count": 53,
      "metadata": {
        "colab": {
          "base_uri": "https://localhost:8080/"
        },
        "id": "M4wL_4_NjFYf",
        "outputId": "2c5dff6b-5613-4e04-8fcd-69e561c2bc6e"
      },
      "outputs": [
        {
          "name": "stdout",
          "output_type": "stream",
          "text": [
            "Using downloaded and verified file: ./data/VOCtrainval_11-May-2012.tar\n",
            "Extracting ./data/VOCtrainval_11-May-2012.tar to ./data\n",
            "Using downloaded and verified file: ./data/VOCtrainval_11-May-2012.tar\n",
            "Extracting ./data/VOCtrainval_11-May-2012.tar to ./data\n"
          ]
        }
      ],
      "source": [
        "# Load datasets\n",
        "train_dataset = VOCDataset(root='./data', year='2012', image_set='train', download=True, transform=transform)\n",
        "val_dataset = VOCDataset(root='./data', year='2012', image_set='val', download=True, transform=transform)\n",
        "train_loader = DataLoader(train_dataset, batch_size=32, shuffle=True)\n",
        "val_loader = DataLoader(val_dataset, batch_size=32, shuffle=False)"
      ]
    },
    {
      "cell_type": "markdown",
      "metadata": {},
      "source": [
        "### Build A Simple CNN Model"
      ]
    },
    {
      "cell_type": "code",
      "execution_count": null,
      "metadata": {
        "id": "g6DHx9JrEgl4"
      },
      "outputs": [],
      "source": [
        "class SimpleCNN(nn.Module):\n",
        "    def __init__(self):\n",
        "        super(SimpleCNN, self).__init__()\n",
        "        self.conv1 = nn.Conv2d(3, 32, 3, padding=1)\n",
        "        self.pool = nn.MaxPool2d(2, 2)\n",
        "        self.conv2 = nn.Conv2d(32, 64, 3, padding=1)\n",
        "        self.fc1 = nn.Linear(64 * 56 * 56, 256)\n",
        "        self.fc2 = nn.Linear(256, len(VOC_CLASSES))\n",
        "\n",
        "    def forward(self, x):\n",
        "        x = self.pool(F.relu(self.conv1(x)))\n",
        "        x = self.pool(F.relu(self.conv2(x)))\n",
        "        x = x.view(x.size(0), -1)\n",
        "        x = F.relu(self.fc1(x))\n",
        "        return torch.sigmoid(self.fc2(x))"
      ]
    },
    {
      "cell_type": "markdown",
      "metadata": {},
      "source": [
        "### Define Optimizers"
      ]
    },
    {
      "cell_type": "code",
      "execution_count": 55,
      "metadata": {
        "id": "MOIorgWQNJ44"
      },
      "outputs": [],
      "source": [
        "def get_basic_optimizers(model):\n",
        "    return {\n",
        "        # Part-I\n",
        "        \"Batch_Gradient_Descent\": torch.optim.SGD(model.parameters(), lr=0.01),\n",
        "        \"Mini-batch SGD\": torch.optim.SGD(model.parameters(), lr=0.01),\n",
        "        \"Stochastic Gradient Descent (SGD)\": torch.optim.SGD(model.parameters(), lr=0.01),\n",
        "    }"
      ]
    },
    {
      "cell_type": "code",
      "execution_count": 56,
      "metadata": {
        "id": "MNShWG7FxI4U"
      },
      "outputs": [],
      "source": [
        "\n",
        "def get_advanced_optimizers(model):\n",
        "    return {\n",
        "        # # Part-II\n",
        "        \"Gradient Descent with Momentum\": torch.optim.SGD(model.parameters(), lr=0.01, momentum=0.9),\n",
        "        \"Gradient Descent with Nesterov Momentum\": torch.optim.SGD(model.parameters(), lr=0.01, momentum=0.9, nesterov=True),\n",
        "    }"
      ]
    },
    {
      "cell_type": "code",
      "execution_count": 57,
      "metadata": {
        "id": "XrU-ilvaxP1x"
      },
      "outputs": [],
      "source": [
        "\n",
        "def get_adaptive_optimizers(model):\n",
        "    return {\n",
        "        # Part-III\n",
        "        \"AdaGrad\": torch.optim.Adagrad(model.parameters(), lr=0.01),\n",
        "        \"RMSProp\": torch.optim.RMSprop(model.parameters(), lr=0.001),\n",
        "        \"Adam\": torch.optim.Adam(model.parameters(), lr=0.001)\n",
        "    }"
      ]
    },
    {
      "cell_type": "markdown",
      "metadata": {},
      "source": [
        "### Model Training and Evaluation"
      ]
    },
    {
      "cell_type": "code",
      "execution_count": null,
      "metadata": {
        "id": "hst1ARpPFBXf"
      },
      "outputs": [],
      "source": [
        "def train(model, optimizer, train_loader, criterion, device):\n",
        "    model.train()\n",
        "    for images, labels in train_loader:\n",
        "        images, labels = images.to(device), labels.to(device)\n",
        "        optimizer.zero_grad()\n",
        "        outputs = model(images)\n",
        "        loss = criterion(outputs, labels)\n",
        "        loss.backward()\n",
        "        optimizer.step()\n"
      ]
    },
    {
      "cell_type": "code",
      "execution_count": null,
      "metadata": {
        "id": "V5c-u9RzFHSm"
      },
      "outputs": [],
      "source": [
        "def evaluate(model, val_loader, device):\n",
        "    model.eval()\n",
        "    y_true, y_pred = [], []\n",
        "    with torch.no_grad():\n",
        "        for images, labels in val_loader:\n",
        "            images = images.to(device)\n",
        "            outputs = model(images)\n",
        "            preds = (outputs.cpu().numpy() > 0.5).astype(int)\n",
        "            y_pred.extend(preds)\n",
        "            y_true.extend(labels.numpy())\n",
        "    acc = accuracy_score(y_true, y_pred)\n",
        "    f1 = f1_score(y_true, y_pred, average='macro')\n",
        "    return acc, f1\n"
      ]
    },
    {
      "cell_type": "markdown",
      "metadata": {},
      "source": [
        "### Visualizations"
      ]
    },
    {
      "cell_type": "code",
      "execution_count": 60,
      "metadata": {
        "id": "9Th1jXQCx7TB"
      },
      "outputs": [],
      "source": [
        "def plot_results(results):\n",
        "    names = list(results.keys())\n",
        "    accs = [results[n][\"Accuracy\"] for n in names]\n",
        "    f1s = [results[n][\"F1 Score\"] for n in names]\n",
        "\n",
        "    x = np.arange(len(names))\n",
        "\n",
        "    plt.figure(figsize=(12, 5))\n",
        "    plt.bar(x, accs, width=0.6, color='skyblue')\n",
        "    plt.ylabel('Accuracy')\n",
        "    plt.title('Accuracy Comparison of Optimizers')\n",
        "    plt.xticks(x, names, rotation=45, ha=\"right\")\n",
        "    plt.tight_layout()\n",
        "    plt.show()\n",
        "\n",
        "    plt.figure(figsize=(12, 5))\n",
        "    plt.bar(x, f1s, width=0.6, color='lightgreen')\n",
        "    plt.ylabel('F1 Score')\n",
        "    plt.title('F1 Score Comparison of Optimizers')\n",
        "    plt.xticks(x, names, rotation=45, ha=\"right\")\n",
        "    plt.tight_layout()\n",
        "    plt.show()\n"
      ]
    },
    {
      "cell_type": "markdown",
      "metadata": {
        "id": "BHN38Oz8x8Fr"
      },
      "source": [
        "### Basic Optimizers"
      ]
    },
    {
      "cell_type": "code",
      "execution_count": 61,
      "metadata": {
        "id": "QztISOXlF1XV"
      },
      "outputs": [],
      "source": [
        "criterion = nn.BCELoss()\n",
        "basic_optimizers_results = {}"
      ]
    },
    {
      "cell_type": "code",
      "execution_count": null,
      "metadata": {
        "colab": {
          "base_uri": "https://localhost:8080/"
        },
        "id": "CuxQJaGvF_GN",
        "outputId": "8f57a229-313b-4b5f-c886-494ef37c2e1e"
      },
      "outputs": [
        {
          "name": "stdout",
          "output_type": "stream",
          "text": [
            "Training with Batch_Gradient_Descent...\n"
          ]
        }
      ],
      "source": [
        "for name in get_basic_optimizers(SimpleCNN()).keys():\n",
        "    print(f\"Training with {name}...\")\n",
        "    model = SimpleCNN().to(device)\n",
        "    optimizer = get_basic_optimizers(model)[name]\n",
        "\n",
        "    # Select appropriate training loader for BGD, SGD\n",
        "    if name == \"Stochastic Gradient Descent (SGD)\":\n",
        "        temp_loader = DataLoader(train_dataset, batch_size=1, shuffle=True)\n",
        "    elif name == \"Batch Gradient Descent (GD)\":\n",
        "        temp_loader = DataLoader(train_dataset, batch_size=len(train_dataset), shuffle=True)\n",
        "    else:\n",
        "        temp_loader = train_loader\n",
        "\n",
        "    for epoch in range(EPOCHES):\n",
        "        train(model, optimizer, temp_loader, criterion, device)\n",
        "    acc, f1 = evaluate(model, val_loader, device)\n",
        "    basic_optimizers_results[name] = {\"Accuracy\": acc, \"F1 Score\": f1}"
      ]
    },
    {
      "cell_type": "code",
      "execution_count": null,
      "metadata": {
        "id": "pez6IIpkkvZT"
      },
      "outputs": [],
      "source": [
        "plot_results(basic_optimizers_results)"
      ]
    },
    {
      "cell_type": "code",
      "execution_count": null,
      "metadata": {
        "id": "YKLK5x5lkxuo"
      },
      "outputs": [],
      "source": [
        "# Rankin Basic optimizers\n",
        "sorted_results = sorted(basic_optimizers_results.items(), key=lambda x: x[1]['F1 Score'], reverse=True)\n",
        "print(\"\\nBasic Optimizer Ranking (based on F1 Score):\")\n",
        "for rank, (name, metrics) in enumerate(sorted_results, 1):\n",
        "    print(f\"{rank}. {name} - Accuracy: {metrics['Accuracy']:.4f}, F1 Score: {metrics['F1 Score']:.4f}\")\n"
      ]
    },
    {
      "cell_type": "markdown",
      "metadata": {
        "id": "OhRAxhZm3uvU"
      },
      "source": [
        "### Advanced Optimizers"
      ]
    },
    {
      "cell_type": "code",
      "execution_count": null,
      "metadata": {
        "id": "M3xVi-q93y6-"
      },
      "outputs": [],
      "source": [
        "criterion = nn.BCELoss()\n",
        "advanced_optimizers_results = {}"
      ]
    },
    {
      "cell_type": "code",
      "execution_count": null,
      "metadata": {
        "id": "oIxZGPrr35Aa"
      },
      "outputs": [],
      "source": [
        "for name in get_advanced_optimizers(SimpleCNN()).keys():\n",
        "    print(f\"Training with {name}...\")\n",
        "    model = SimpleCNN().to(device)\n",
        "    optimizer = get_advanced_optimizers(model)[name]\n",
        "    for epoch in range(EPOCHES):\n",
        "        train(model, optimizer, train_loader, criterion, device)\n",
        "    acc, f1 = evaluate(model, val_loader, device)\n",
        "    advanced_optimizers_results[name] = {\"Accuracy\": acc, \"F1 Score\": f1}"
      ]
    },
    {
      "cell_type": "code",
      "execution_count": null,
      "metadata": {
        "id": "tmecgeu34D3i"
      },
      "outputs": [],
      "source": [
        "plot_results(advanced_optimizers_results)"
      ]
    },
    {
      "cell_type": "code",
      "execution_count": null,
      "metadata": {
        "id": "eZxmMD4b4GVm"
      },
      "outputs": [],
      "source": [
        "# Rankin Basic optimizers\n",
        "adv_sorted_results = sorted(advanced_optimizers_results.items(), key=lambda x: x[1]['F1 Score'], reverse=True)\n",
        "print(\"\\nBasic Optimizer Ranking (based on F1 Score):\")\n",
        "for rank, (name, metrics) in enumerate(adv_sorted_results, 1):\n",
        "    print(f\"{rank}. {name} - Accuracy: {metrics['Accuracy']:.4f}, F1 Score: {metrics['F1 Score']:.4f}\")\n"
      ]
    },
    {
      "cell_type": "markdown",
      "metadata": {
        "id": "lFaHhM_a4PM5"
      },
      "source": [
        "### Adaptive OPtimizers"
      ]
    },
    {
      "cell_type": "code",
      "execution_count": null,
      "metadata": {
        "id": "NGXiT2W84S8r"
      },
      "outputs": [],
      "source": [
        "criterion = nn.BCELoss()\n",
        "adaptive_optimizers_results = {}"
      ]
    },
    {
      "cell_type": "code",
      "execution_count": null,
      "metadata": {
        "id": "NHDKZFq94WnC"
      },
      "outputs": [],
      "source": [
        "for name in adaptive_optimizers_results(SimpleCNN()).keys():\n",
        "    print(f\"Training with {name}...\")\n",
        "    model = SimpleCNN().to(device)\n",
        "    optimizer = adaptive_optimizers_results(model)[name]\n",
        "    for epoch in range(EPOCHES):\n",
        "        train(model, optimizer, train_loader, criterion, device)\n",
        "    acc, f1 = evaluate(model, val_loader, device)\n",
        "    advanced_optimizers_results[name] = {\"Accuracy\": acc, \"F1 Score\": f1}"
      ]
    },
    {
      "cell_type": "code",
      "execution_count": null,
      "metadata": {
        "id": "jSKPYYXL4k93"
      },
      "outputs": [],
      "source": [
        "plot_results(adaptive_optimizers_results)"
      ]
    },
    {
      "cell_type": "code",
      "execution_count": null,
      "metadata": {
        "id": "Q-tj6k8m4mL-"
      },
      "outputs": [],
      "source": [
        "# Rankin Basic optimizers\n",
        "adap_sorted_results = sorted(adaptive_optimizers_results.items(), key=lambda x: x[1]['F1 Score'], reverse=True)\n",
        "print(\"\\nBasic Optimizer Ranking (based on F1 Score):\")\n",
        "for rank, (name, metrics) in enumerate(adap_sorted_results, 1):\n",
        "    print(f\"{rank}. {name} - Accuracy: {metrics['Accuracy']:.4f}, F1 Score: {metrics['F1 Score']:.4f}\")\n"
      ]
    },
    {
      "cell_type": "markdown",
      "metadata": {
        "id": "LrAUp_CP55am"
      },
      "source": [
        "### Comparing the top 3 optimizers"
      ]
    },
    {
      "cell_type": "code",
      "execution_count": null,
      "metadata": {
        "id": "Vkirfhnx59xU"
      },
      "outputs": [],
      "source": []
    }
  ],
  "metadata": {
    "accelerator": "GPU",
    "colab": {
      "collapsed_sections": [
        "BHN38Oz8x8Fr",
        "OhRAxhZm3uvU"
      ],
      "gpuType": "T4",
      "provenance": []
    },
    "kernelspec": {
      "display_name": "Python 3",
      "name": "python3"
    },
    "language_info": {
      "name": "python"
    }
  },
  "nbformat": 4,
  "nbformat_minor": 0
}
